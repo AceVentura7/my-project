{
 "cells": [
  {
   "cell_type": "markdown",
   "id": "b0ab6e2f",
   "metadata": {},
   "source": [
    "# My first local notebook"
   ]
  },
  {
   "cell_type": "code",
   "execution_count": 1,
   "id": "b72dc80b",
   "metadata": {},
   "outputs": [
    {
     "name": "stdout",
     "output_type": "stream",
     "text": [
      "Requirement already satisfied: numpy in /home/aceventura7/miniconda3/envs/my-env/lib/python3.9/site-packages (1.22.3)\r\n"
     ]
    }
   ],
   "source": [
    "!pip install numpy"
   ]
  },
  {
   "cell_type": "code",
   "execution_count": 2,
   "id": "c9de3c6d",
   "metadata": {},
   "outputs": [],
   "source": [
    "import numpy as np"
   ]
  },
  {
   "cell_type": "code",
   "execution_count": 3,
   "id": "3b83a019",
   "metadata": {},
   "outputs": [
    {
     "data": {
      "text/plain": [
       "5.0"
      ]
     },
     "execution_count": 3,
     "metadata": {},
     "output_type": "execute_result"
    }
   ],
   "source": [
    "np.mean([1,2,3,4,5,6,7,8,9])"
   ]
  },
  {
   "cell_type": "code",
   "execution_count": 4,
   "id": "904dd0b0",
   "metadata": {},
   "outputs": [
    {
     "name": "stdout",
     "output_type": "stream",
     "text": [
      "Requirement already satisfied: jovian in /home/aceventura7/miniconda3/envs/my-env/lib/python3.9/site-packages (0.2.41)\n",
      "Requirement already satisfied: pyyaml in /home/aceventura7/miniconda3/envs/my-env/lib/python3.9/site-packages (from jovian) (6.0)\n",
      "Requirement already satisfied: requests in /home/aceventura7/miniconda3/envs/my-env/lib/python3.9/site-packages (from jovian) (2.27.1)\n",
      "Requirement already satisfied: click in /home/aceventura7/miniconda3/envs/my-env/lib/python3.9/site-packages (from jovian) (8.1.2)\n",
      "Requirement already satisfied: uuid in /home/aceventura7/miniconda3/envs/my-env/lib/python3.9/site-packages (from jovian) (1.30)\n",
      "Requirement already satisfied: certifi>=2017.4.17 in /home/aceventura7/miniconda3/envs/my-env/lib/python3.9/site-packages (from requests->jovian) (2021.10.8)\n",
      "Requirement already satisfied: charset-normalizer~=2.0.0 in /home/aceventura7/miniconda3/envs/my-env/lib/python3.9/site-packages (from requests->jovian) (2.0.12)\n",
      "Requirement already satisfied: idna<4,>=2.5 in /home/aceventura7/miniconda3/envs/my-env/lib/python3.9/site-packages (from requests->jovian) (3.3)\n",
      "Requirement already satisfied: urllib3<1.27,>=1.21.1 in /home/aceventura7/miniconda3/envs/my-env/lib/python3.9/site-packages (from requests->jovian) (1.26.9)\n"
     ]
    }
   ],
   "source": [
    "!pip install jovian"
   ]
  },
  {
   "cell_type": "code",
   "execution_count": 5,
   "id": "84bbfc3b",
   "metadata": {},
   "outputs": [],
   "source": [
    "import jovian "
   ]
  },
  {
   "cell_type": "code",
   "execution_count": 6,
   "id": "e06b151a",
   "metadata": {},
   "outputs": [
    {
     "data": {
      "application/javascript": [
       "window.require && require([\"base/js/namespace\"],function(Jupyter){Jupyter.notebook.save_checkpoint()})"
      ],
      "text/plain": [
       "<IPython.core.display.Javascript object>"
      ]
     },
     "metadata": {},
     "output_type": "display_data"
    },
    {
     "name": "stdout",
     "output_type": "stream",
     "text": [
      "[jovian] Committed successfully! https://jovian.ai/kartikaye-madhok/my-notebook-1\u001b[0m\n"
     ]
    },
    {
     "data": {
      "text/plain": [
       "'https://jovian.ai/kartikaye-madhok/my-notebook-1'"
      ]
     },
     "execution_count": 6,
     "metadata": {},
     "output_type": "execute_result"
    }
   ],
   "source": [
    "jovian.commit()"
   ]
  },
  {
   "cell_type": "code",
   "execution_count": 7,
   "id": "11917bc4",
   "metadata": {},
   "outputs": [
    {
     "data": {
      "application/javascript": [
       "window.require && require([\"base/js/namespace\"],function(Jupyter){Jupyter.notebook.save_checkpoint()})"
      ],
      "text/plain": [
       "<IPython.core.display.Javascript object>"
      ]
     },
     "metadata": {},
     "output_type": "display_data"
    },
    {
     "name": "stdout",
     "output_type": "stream",
     "text": [
      "[jovian] Updating notebook \"kartikaye-madhok/my-notebook-1\" on https://jovian.ai/\u001b[0m\n",
      "[main a863ad3] jovian commit kartikaye-madhok/my-notebook-1 v2\n",
      " 3 files changed, 381 insertions(+)\n",
      " create mode 100644 .ipynb_checkpoints/my-notebook-1-checkpoint.ipynb\n",
      " create mode 100644 my-notebook-1.ipynb\n",
      "/home/aceventura7/my-project\n",
      "[jovian] Git repository identified. Performing git commit...\u001b[0m\n",
      "[jovian] Attaching records (metrics, hyperparameters, dataset etc.)\u001b[0m\n",
      "[jovian] Committed successfully! https://jovian.ai/kartikaye-madhok/my-notebook-1\u001b[0m\n"
     ]
    },
    {
     "data": {
      "text/plain": [
       "'https://jovian.ai/kartikaye-madhok/my-notebook-1'"
      ]
     },
     "execution_count": 7,
     "metadata": {},
     "output_type": "execute_result"
    }
   ],
   "source": [
    "jovian.commit(git_commit=True)"
   ]
  },
  {
   "cell_type": "code",
   "execution_count": 1,
   "id": "c891c54c",
   "metadata": {},
   "outputs": [
    {
     "data": {
      "text/plain": [
       "357"
      ]
     },
     "execution_count": 1,
     "metadata": {},
     "output_type": "execute_result"
    }
   ],
   "source": [
    "21*17"
   ]
  },
  {
   "cell_type": "code",
   "execution_count": null,
   "id": "550db034",
   "metadata": {},
   "outputs": [
    {
     "data": {
      "application/javascript": [
       "window.require && require([\"base/js/namespace\"],function(Jupyter){Jupyter.notebook.save_checkpoint()})"
      ],
      "text/plain": [
       "<IPython.core.display.Javascript object>"
      ]
     },
     "metadata": {},
     "output_type": "display_data"
    }
   ],
   "source": [
    "jovian.commit(git_commit=True)"
   ]
  },
  {
   "cell_type": "code",
   "execution_count": null,
   "id": "4ee9af5a",
   "metadata": {},
   "outputs": [],
   "source": []
  }
 ],
 "metadata": {
  "kernelspec": {
   "display_name": "Python 3 (ipykernel)",
   "language": "python",
   "name": "python3"
  },
  "language_info": {
   "codemirror_mode": {
    "name": "ipython",
    "version": 3
   },
   "file_extension": ".py",
   "mimetype": "text/x-python",
   "name": "python",
   "nbconvert_exporter": "python",
   "pygments_lexer": "ipython3",
   "version": "3.9.7"
  }
 },
 "nbformat": 4,
 "nbformat_minor": 5
}
